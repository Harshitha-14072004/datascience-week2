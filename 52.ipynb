{
 "cells": [
  {
   "cell_type": "code",
   "execution_count": 3,
   "id": "82a6d3f4-e1d1-4c16-b1b6-2038cf60ec77",
   "metadata": {},
   "outputs": [
    {
     "name": "stdout",
     "output_type": "stream",
     "text": [
      "hello world\n"
     ]
    }
   ],
   "source": [
    "print(\"hello world\")"
   ]
  },
  {
   "cell_type": "code",
   "execution_count": 5,
   "id": "f749c962-d1a5-46c3-8a44-77a2894aab05",
   "metadata": {},
   "outputs": [
    {
     "name": "stdout",
     "output_type": "stream",
     "text": [
      "123\n"
     ]
    }
   ],
   "source": [
    "print('123')"
   ]
  },
  {
   "cell_type": "code",
   "execution_count": 6,
   "id": "ee579005-4f04-4a4a-bc66-ab8c7b759bb9",
   "metadata": {},
   "outputs": [
    {
     "name": "stdout",
     "output_type": "stream",
     "text": [
      "my age is: 21\n"
     ]
    }
   ],
   "source": [
    "age=21\n",
    "print(\"my age is:\",age)"
   ]
  },
  {
   "cell_type": "code",
   "execution_count": 12,
   "id": "50329b3a-835c-495f-8586-06addc8e4ba6",
   "metadata": {},
   "outputs": [
    {
     "name": "stdout",
     "output_type": "stream",
     "text": [
      "my age is:21\n"
     ]
    }
   ],
   "source": [
    "#f statement\n",
    "print(f\"my age is:{age}\")"
   ]
  },
  {
   "cell_type": "code",
   "execution_count": 14,
   "id": "5a97982d-2018-4fed-8166-a667200b7fef",
   "metadata": {},
   "outputs": [
    {
     "name": "stdout",
     "output_type": "stream",
     "text": [
      "my nmae har and age 21\n"
     ]
    }
   ],
   "source": [
    "#format \n",
    "name=\"har\"\n",
    "age=21\n",
    "print(\"my nmae {} and age {}\".format(name,age))"
   ]
  },
  {
   "cell_type": "code",
   "execution_count": 16,
   "id": "a860cf39-5800-4109-af18-6c6ac5533930",
   "metadata": {},
   "outputs": [
    {
     "name": "stdout",
     "output_type": "stream",
     "text": [
      "my name harshitha and completed degree in be at the age of 21\n"
     ]
    }
   ],
   "source": [
    "name=\"harshitha\"\n",
    "age=21\n",
    "degree=\"be\"\n",
    "print(\"my name {} and completed degree in {} at the age of {}\".format(name,degree,age))"
   ]
  },
  {
   "cell_type": "markdown",
   "id": "6c8f65cb-e51f-4e87-92b8-c66b0d4ba698",
   "metadata": {},
   "source": [
    "#control flow\n",
    "#decision making statements\n"
   ]
  },
  {
   "cell_type": "code",
   "execution_count": 18,
   "id": "527a36e2-e071-422f-8b56-5073db895dfa",
   "metadata": {},
   "outputs": [],
   "source": [
    "##if statements"
   ]
  },
  {
   "cell_type": "code",
   "execution_count": 19,
   "id": "47eee7e4-0e78-4759-8ac3-add84db64d2e",
   "metadata": {},
   "outputs": [
    {
     "name": "stdout",
     "output_type": "stream",
     "text": [
      "eligible to vote\n"
     ]
    }
   ],
   "source": [
    "age=18\n",
    "if age>=18:\n",
    "    print(\"eligible to vote\")"
   ]
  },
  {
   "cell_type": "code",
   "execution_count": 22,
   "id": "176a4165-494d-4e79-85ba-d7f95db71240",
   "metadata": {},
   "outputs": [
    {
     "name": "stdin",
     "output_type": "stream",
     "text": [
      " 21\n"
     ]
    },
    {
     "name": "stdout",
     "output_type": "stream",
     "text": [
      "eligible to vote\n"
     ]
    }
   ],
   "source": [
    "age=int(input())\n",
    "if age>=18:\n",
    "    print(\"eligible to vote\")"
   ]
  },
  {
   "cell_type": "code",
   "execution_count": 1,
   "id": "f389e44b-1482-4578-bf67-ef508e545486",
   "metadata": {},
   "outputs": [
    {
     "name": "stdin",
     "output_type": "stream",
     "text": [
      " 13\n"
     ]
    }
   ],
   "source": [
    "age=int(input())\n",
    "if age>=18 and age<=35:\n",
    "    print(\"young blood\")\n"
   ]
  },
  {
   "cell_type": "markdown",
   "id": "9a2787fc-419e-4910-9ca7-d148150891f4",
   "metadata": {},
   "source": [
    "#mall\n",
    "#product>1000-20% \n",
    "#product price after discount\n",
    "#product<=1000-30%\n",
    "#after discount"
   ]
  },
  {
   "cell_type": "code",
   "execution_count": 3,
   "id": "56df991f-8db4-45c8-91fa-3980f1b371f4",
   "metadata": {},
   "outputs": [
    {
     "name": "stdin",
     "output_type": "stream",
     "text": [
      "price of product 5000\n"
     ]
    },
    {
     "name": "stdout",
     "output_type": "stream",
     "text": [
      "product price4000.0\n"
     ]
    }
   ],
   "source": [
    "product_price=int(input(\"price of product\"))\n",
    "if product_price>1000:\n",
    "    print(\"product price{}\".format(product_price*0.8)) #0.8 because 100-20=80 and 80 in decimals\n",
    "else:\n",
    "    print(\"product price{}\".format(product_price*0.7))\n"
   ]
  },
  {
   "cell_type": "markdown",
   "id": "01f38a81-f444-4997-964b-395faa19f195",
   "metadata": {},
   "source": [
    "#mall\n",
    "#product>3000-20% \n",
    "#product price after discount\n",
    "#product>=2000 and <=3000-30%\n",
    "#after discount\n",
    "#<=1000 and <=2000-40%"
   ]
  },
  {
   "cell_type": "code",
   "execution_count": 15,
   "id": "da09f41d-b854-4965-8b2d-e3da56834681",
   "metadata": {},
   "outputs": [
    {
     "name": "stdin",
     "output_type": "stream",
     "text": [
      "price of product 22\n"
     ]
    },
    {
     "name": "stdout",
     "output_type": "stream",
     "text": [
      "product price11.0\n"
     ]
    }
   ],
   "source": [
    "product_price=int(input(\"price of product\"))\n",
    "if product_price>3000:\n",
    "    print(\"product price{}\".format(product_price*0.8)) #0.8 because 100-20=80 and 80 in decimals\n",
    "elif product_price>=2000 and product_price<=3000:\n",
    "    print(\"product price{}\".format(product_price*0.7))\n",
    "else:\n",
    "    print(\"product price{}\".format(product_price*0.5))\n"
   ]
  },
  {
   "cell_type": "code",
   "execution_count": null,
   "id": "7b6104e4-1213-47f7-a16a-505185cefed9",
   "metadata": {},
   "outputs": [],
   "source": []
  }
 ],
 "metadata": {
  "kernelspec": {
   "display_name": "Python 3 (ipykernel)",
   "language": "python",
   "name": "python3"
  },
  "language_info": {
   "codemirror_mode": {
    "name": "ipython",
    "version": 3
   },
   "file_extension": ".py",
   "mimetype": "text/x-python",
   "name": "python",
   "nbconvert_exporter": "python",
   "pygments_lexer": "ipython3",
   "version": "3.10.8"
  }
 },
 "nbformat": 4,
 "nbformat_minor": 5
}
